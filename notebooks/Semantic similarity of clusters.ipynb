{
 "cells": [
  {
   "cell_type": "code",
   "execution_count": 1,
   "id": "05136d6a",
   "metadata": {},
   "outputs": [],
   "source": [
    "import sys\n",
    "import os\n",
    "import pickle\n",
    "import glob\n",
    "from joblib import Parallel, delayed\n",
    "\n",
    "import scipy.stats as stats\n",
    "\n",
    "from random import sample\n",
    "import networkx as nx\n",
    "import pandas as pd\n",
    "import numpy as np\n",
    "import matplotlib\n",
    "import matplotlib.pyplot as plt\n",
    "import seaborn as sns\n",
    "from sklearn import cluster,metrics\n",
    "from nxontology.imports import from_file\n"
   ]
  },
  {
   "cell_type": "code",
   "execution_count": 2,
   "id": "01483fe7",
   "metadata": {},
   "outputs": [],
   "source": [
    "with open(\"../data/processed/disease_ontograph.pkl\", 'rb') as f:\n",
    "    disease_ontograph = pickle.load(f)\n",
    "    #Remove unconnected components\n",
    "components = [i for i in nx.connected_components(disease_ontograph)]\n",
    "disease_ontograph = disease_ontograph.subgraph(components[0]).copy()\n",
    "\n",
    "diseases = [n for n in disease_ontograph.nodes if disease_ontograph.nodes[n].get('label') ==  'disease']"
   ]
  },
  {
   "cell_type": "code",
   "execution_count": 4,
   "id": "0f9a121e",
   "metadata": {},
   "outputs": [],
   "source": [
    "gard_gene_raw = pd.read_csv('../data/raw/disease_genes_palantir.csv')\n",
    "non_root_gene_raw = pd.read_csv('../data/raw/non_root_disease_genes_palantir.csv')\n",
    "gard_phen_raw =  pd.read_csv('../data/raw/disease_phenotypes_palantir.csv')"
   ]
  },
  {
   "cell_type": "code",
   "execution_count": 5,
   "id": "fb4b3a31",
   "metadata": {},
   "outputs": [],
   "source": [
    "gard_diseases = pd.concat([gard_gene_raw[['OrphaCode','curie','label']],\n",
    "                           non_root_gene_raw[['OrphaCode','curie','label']],\n",
    "                           gard_phen_raw[['OrphaCode','curie','label']]],axis=0).drop_duplicates().reset_index()"
   ]
  },
  {
   "cell_type": "code",
   "execution_count": 7,
   "id": "8070df88",
   "metadata": {},
   "outputs": [],
   "source": [
    "N = 250\n",
    "L = 250\n",
    "D = 32 \n",
    "K_dim = 20\n",
    "m_file = \"../data/clusters/kmeans/ontograph_embed_N{0}_L{1}_D{2}_K{3}_KMEANS_KOPT37.pkl\".format(N,L,D,K_dim)"
   ]
  },
  {
   "cell_type": "code",
   "execution_count": 8,
   "id": "e006ef17",
   "metadata": {},
   "outputs": [],
   "source": [
    "with open(m_file, 'rb') as f:\n",
    "    cluster_model = pickle.load(f)\n",
    "    \n",
    "cluster_map = {dis:cluster_model.labels_[i] for i,dis in enumerate(diseases)}"
   ]
  },
  {
   "cell_type": "code",
   "execution_count": 14,
   "id": "fb0bdfd2",
   "metadata": {},
   "outputs": [],
   "source": [
    "cluster_sets = {i:[] for i in set(cluster_model.labels_)}\n",
    "\n",
    "for i in cluster_map:\n",
    "    cluster_sets[cluster_map[i]].append(i)\n",
    "\n",
    "cluster_tuples = {i:[] for i in set(cluster_model.labels_)}\n",
    "\n",
    "for cluster in cluster_sets:\n",
    "    cluster_disease = cluster_sets[cluster]\n",
    "    for i in range(len(cluster_disease)):\n",
    "        for j in range(i+1,len(cluster_disease)):\n",
    "            cluster_tuples[cluster].append((cluster_disease[i],cluster_disease[j]))"
   ]
  },
  {
   "cell_type": "code",
   "execution_count": 15,
   "id": "5c0246c5",
   "metadata": {},
   "outputs": [],
   "source": [
    "tuple_list = []\n",
    "for i in range(len(gard2orpha)):\n",
    "    for j in range(i+1,len(gard2orpha)):\n",
    "        tuple_list.append((gard_diseases['curie'][i],gard_diseases['curie'][j]))"
   ]
  },
  {
   "cell_type": "code",
   "execution_count": 19,
   "id": "694e7352",
   "metadata": {},
   "outputs": [],
   "source": [
    "def semantic_sim(ontology,entities,ont_map,metric='intrinsic_ic_sanchez'):\n",
    "    # TODO:\n",
    "    # Check if entities are in map\n",
    "    # Check if mapped entities are in ontology\n",
    "    # Check if metric is valid\n",
    "    # Try and catch\n",
    "    sim = ontology.similarity(ont_map[entities[0]],ont_map[entities[1]], ic_metric=metric).lin\n",
    "\n",
    "    return {entities:sim}"
   ]
  },
  {
   "cell_type": "code",
   "execution_count": 10,
   "id": "64903f2b",
   "metadata": {},
   "outputs": [
    {
     "name": "stderr",
     "output_type": "stream",
     "text": [
      "/Users/sanjakjs/opt/anaconda3/envs/rdclust/lib/python3.8/site-packages/nxontology/imports.py:67: UnicodeWarning: unsound encoding, assuming ISO-8859-1 (72% confidence)\n",
      "  onto = Prontology(handle=handle)\n",
      "/Users/sanjakjs/opt/anaconda3/envs/rdclust/lib/python3.8/site-packages/pronto/parsers/rdfxml.py:286: SyntaxWarning: <Element '{http://purl.org/dc/elements/1.1/}creator' at 0x7f90d6002bd0> contains text but no `xsd:datatype`\n",
      "  meta.annotations.add(self._extract_literal_pv(child))\n",
      "/Users/sanjakjs/opt/anaconda3/envs/rdclust/lib/python3.8/site-packages/pronto/parsers/rdfxml.py:286: SyntaxWarning: <Element '{http://purl.org/dc/elements/1.1/}creator' at 0x7f90d6002c20> contains text but no `xsd:datatype`\n",
      "  meta.annotations.add(self._extract_literal_pv(child))\n",
      "/Users/sanjakjs/opt/anaconda3/envs/rdclust/lib/python3.8/site-packages/pronto/parsers/rdfxml.py:286: SyntaxWarning: <Element '{http://purl.org/dc/elements/1.1/}creator' at 0x7f90d6002c70> contains text but no `xsd:datatype`\n",
      "  meta.annotations.add(self._extract_literal_pv(child))\n",
      "/Users/sanjakjs/opt/anaconda3/envs/rdclust/lib/python3.8/site-packages/pronto/parsers/rdfxml.py:286: SyntaxWarning: <Element '{http://purl.org/dc/elements/1.1/}creator' at 0x7f90d6002d10> contains text but no `xsd:datatype`\n",
      "  meta.annotations.add(self._extract_literal_pv(child))\n",
      "/Users/sanjakjs/opt/anaconda3/envs/rdclust/lib/python3.8/site-packages/pronto/parsers/rdfxml.py:286: SyntaxWarning: <Element '{http://purl.org/dc/elements/1.1/}creator' at 0x7f90d6002d60> contains text but no `xsd:datatype`\n",
      "  meta.annotations.add(self._extract_literal_pv(child))\n",
      "/Users/sanjakjs/opt/anaconda3/envs/rdclust/lib/python3.8/site-packages/pronto/parsers/rdfxml.py:286: SyntaxWarning: <Element '{http://purl.org/dc/elements/1.1/}creator' at 0x7f90d6002db0> contains text but no `xsd:datatype`\n",
      "  meta.annotations.add(self._extract_literal_pv(child))\n",
      "/Users/sanjakjs/opt/anaconda3/envs/rdclust/lib/python3.8/site-packages/pronto/parsers/rdfxml.py:286: SyntaxWarning: <Element '{http://www.w3.org/2002/07/owl#}versionInfo' at 0x7f90d5ed0130> contains text but no `xsd:datatype`\n",
      "  meta.annotations.add(self._extract_literal_pv(child))\n",
      "/Users/sanjakjs/opt/anaconda3/envs/rdclust/lib/python3.8/site-packages/pronto/parsers/rdfxml.py:113: SyntaxWarning: unknown element in `owl:ObjectProperty`: <Element '{http://www.ebi.ac.uk/efo/}definition' at 0x7f90d5eb87c0>\n",
      "  self._extract_object_property(prop, curies)\n",
      "/Users/sanjakjs/opt/anaconda3/envs/rdclust/lib/python3.8/site-packages/pronto/parsers/rdfxml.py:113: SyntaxWarning: unknown element in `owl:ObjectProperty`: <Element '{http://www.ebi.ac.uk/efo/}definition' at 0x7f90d5eb88b0>\n",
      "  self._extract_object_property(prop, curies)\n",
      "/Users/sanjakjs/opt/anaconda3/envs/rdclust/lib/python3.8/site-packages/pronto/parsers/rdfxml.py:113: SyntaxWarning: unknown element in `owl:ObjectProperty`: <Element '{http://www.ebi.ac.uk/efo/}definition' at 0x7f90d5eb89a0>\n",
      "  self._extract_object_property(prop, curies)\n",
      "/Users/sanjakjs/opt/anaconda3/envs/rdclust/lib/python3.8/site-packages/pronto/parsers/rdfxml.py:113: SyntaxWarning: unknown element in `owl:ObjectProperty`: <Element '{http://www.ebi.ac.uk/efo/}definition' at 0x7f90d5eb8ae0>\n",
      "  self._extract_object_property(prop, curies)\n",
      "/Users/sanjakjs/opt/anaconda3/envs/rdclust/lib/python3.8/site-packages/pronto/parsers/rdfxml.py:113: SyntaxWarning: unknown element in `owl:ObjectProperty`: <Element '{http://www.ebi.ac.uk/efo/}definition' at 0x7f90d5eb8c20>\n",
      "  self._extract_object_property(prop, curies)\n",
      "/Users/sanjakjs/opt/anaconda3/envs/rdclust/lib/python3.8/site-packages/pronto/parsers/rdfxml.py:113: SyntaxWarning: unknown element in `owl:ObjectProperty`: <Element '{http://www.ebi.ac.uk/efo/}definition' at 0x7f90d5eb8d60>\n",
      "  self._extract_object_property(prop, curies)\n",
      "/Users/sanjakjs/opt/anaconda3/envs/rdclust/lib/python3.8/site-packages/pronto/parsers/rdfxml.py:113: SyntaxWarning: unknown element in `owl:ObjectProperty`: <Element '{http://www.ebi.ac.uk/efo/}definition' at 0x7f90d5eb8ea0>\n",
      "  self._extract_object_property(prop, curies)\n",
      "/Users/sanjakjs/opt/anaconda3/envs/rdclust/lib/python3.8/site-packages/pronto/parsers/rdfxml.py:113: SyntaxWarning: unknown element in `owl:ObjectProperty`: <Element '{http://www.ebi.ac.uk/efo/}definition' at 0x7f90d5eaa040>\n",
      "  self._extract_object_property(prop, curies)\n",
      "/Users/sanjakjs/opt/anaconda3/envs/rdclust/lib/python3.8/site-packages/pronto/parsers/rdfxml.py:113: SyntaxWarning: unknown element in `owl:ObjectProperty`: <Element '{http://www.ebi.ac.uk/efo/}definition' at 0x7f90d5eaa130>\n",
      "  self._extract_object_property(prop, curies)\n",
      "/Users/sanjakjs/opt/anaconda3/envs/rdclust/lib/python3.8/site-packages/pronto/parsers/rdfxml.py:113: SyntaxWarning: unknown element in `owl:ObjectProperty`: <Element '{http://www.ebi.ac.uk/efo/}definition' at 0x7f90d5eaa220>\n",
      "  self._extract_object_property(prop, curies)\n",
      "/Users/sanjakjs/opt/anaconda3/envs/rdclust/lib/python3.8/site-packages/pronto/ontology.py:283: NotImplementedWarning: cannot process plain `owl:AnnotationProperty`\n",
      "  cls(self).parse_from(_handle)  # type: ignore\n",
      "/Users/sanjakjs/opt/anaconda3/envs/rdclust/lib/python3.8/site-packages/pronto/parsers/rdfxml.py:117: SyntaxWarning: unknown element in `owl:Class`: {http://www.ebi.ac.uk/efo/}definition\n",
      "  self._extract_term(class_, curies)\n",
      "/Users/sanjakjs/opt/anaconda3/envs/rdclust/lib/python3.8/site-packages/pronto/parsers/rdfxml.py:117: SyntaxWarning: unknown element in `owl:Class`: {http://www.ebi.ac.uk/efo/}definition_citation\n",
      "  self._extract_term(class_, curies)\n",
      "/Users/sanjakjs/opt/anaconda3/envs/rdclust/lib/python3.8/site-packages/pronto/parsers/rdfxml.py:117: SyntaxWarning: unknown element in `owl:Class`: {http://www.orpha.net/ORDO/}Orphanet_C016\n",
      "  self._extract_term(class_, curies)\n",
      "/Users/sanjakjs/opt/anaconda3/envs/rdclust/lib/python3.8/site-packages/pronto/parsers/rdfxml.py:117: SyntaxWarning: unknown element in `owl:Class`: {http://www.orpha.net/ORDO/}Orphanet_C017\n",
      "  self._extract_term(class_, curies)\n",
      "/Users/sanjakjs/opt/anaconda3/envs/rdclust/lib/python3.8/site-packages/pronto/parsers/rdfxml.py:117: SyntaxWarning: unknown element in `owl:Class`: {http://www.orpha.net/ORDO/}Orphanet_C021\n",
      "  self._extract_term(class_, curies)\n",
      "/Users/sanjakjs/opt/anaconda3/envs/rdclust/lib/python3.8/site-packages/pronto/parsers/rdfxml.py:117: SyntaxWarning: unknown element in `owl:Class`: {http://www.orpha.net/ORDO/}Orphanet_C022\n",
      "  self._extract_term(class_, curies)\n",
      "/Users/sanjakjs/opt/anaconda3/envs/rdclust/lib/python3.8/site-packages/pronto/parsers/rdfxml.py:117: SyntaxWarning: unknown element in `owl:Class`: {http://www.orpha.net/ORDO/}Orphanet_C025\n",
      "  self._extract_term(class_, curies)\n",
      "/Users/sanjakjs/opt/anaconda3/envs/rdclust/lib/python3.8/site-packages/pronto/parsers/rdfxml.py:117: SyntaxWarning: unknown element in `owl:Class`: {http://www.orpha.net/ORDO/}Orphanet_C026\n",
      "  self._extract_term(class_, curies)\n",
      "/Users/sanjakjs/opt/anaconda3/envs/rdclust/lib/python3.8/site-packages/pronto/parsers/rdfxml.py:117: SyntaxWarning: unknown element in `owl:Class`: {http://www.orpha.net/ORDO/}Orphanet_C055\n",
      "  self._extract_term(class_, curies)\n",
      "/Users/sanjakjs/opt/anaconda3/envs/rdclust/lib/python3.8/site-packages/pronto/parsers/rdfxml.py:117: SyntaxWarning: unknown element in `owl:Class`: {http://www.w3.org/2004/02/skos/core#}notation\n",
      "  self._extract_term(class_, curies)\n",
      "/Users/sanjakjs/opt/anaconda3/envs/rdclust/lib/python3.8/site-packages/pronto/parsers/rdfxml.py:117: SyntaxWarning: unknown element in `owl:Class`: {http://www.ebi.ac.uk/efo/}alternative_term\n",
      "  self._extract_term(class_, curies)\n",
      "/Users/sanjakjs/opt/anaconda3/envs/rdclust/lib/python3.8/site-packages/pronto/parsers/rdfxml.py:117: SyntaxWarning: unknown element in `owl:Class`: {http://www.orpha.net/ORDO/}Orphanet_C020\n",
      "  self._extract_term(class_, curies)\n",
      "/Users/sanjakjs/opt/anaconda3/envs/rdclust/lib/python3.8/site-packages/pronto/parsers/rdfxml.py:117: SyntaxWarning: unknown element in `owl:Class`: {http://www.orpha.net/ORDO/}Orphanet_C027\n",
      "  self._extract_term(class_, curies)\n",
      "/Users/sanjakjs/opt/anaconda3/envs/rdclust/lib/python3.8/site-packages/pronto/parsers/rdfxml.py:117: SyntaxWarning: could not extract target IRI from `owl:Restriction`\n",
      "  self._extract_term(class_, curies)\n",
      "/Users/sanjakjs/opt/anaconda3/envs/rdclust/lib/python3.8/site-packages/pronto/parsers/rdfxml.py:117: SyntaxWarning: unknown element in `owl:Class`: {http://www.orpha.net/ORDO/}symbol\n",
      "  self._extract_term(class_, curies)\n"
     ]
    },
    {
     "name": "stderr",
     "output_type": "stream",
     "text": [
      "/Users/sanjakjs/opt/anaconda3/envs/rdclust/lib/python3.8/site-packages/pronto/parsers/rdfxml.py:117: SyntaxWarning: several names found for 'http://www.orpha.net/ORDO/Orphanet_377788', using 'Disease'\n",
      "  self._extract_term(class_, curies)\n",
      "/Users/sanjakjs/opt/anaconda3/envs/rdclust/lib/python3.8/site-packages/pronto/parsers/rdfxml.py:117: SyntaxWarning: several names found for 'http://www.orpha.net/ORDO/Orphanet_377789', using 'Malformation syndrome'\n",
      "  self._extract_term(class_, curies)\n",
      "/Users/sanjakjs/opt/anaconda3/envs/rdclust/lib/python3.8/site-packages/pronto/parsers/rdfxml.py:117: SyntaxWarning: several names found for 'http://www.orpha.net/ORDO/Orphanet_377790', using 'Biological anomaly'\n",
      "  self._extract_term(class_, curies)\n",
      "/Users/sanjakjs/opt/anaconda3/envs/rdclust/lib/python3.8/site-packages/pronto/parsers/rdfxml.py:117: SyntaxWarning: several names found for 'http://www.orpha.net/ORDO/Orphanet_377791', using 'Morphological anomaly'\n",
      "  self._extract_term(class_, curies)\n",
      "/Users/sanjakjs/opt/anaconda3/envs/rdclust/lib/python3.8/site-packages/pronto/parsers/rdfxml.py:117: SyntaxWarning: several names found for 'http://www.orpha.net/ORDO/Orphanet_377792', using 'Clinical syndrome'\n",
      "  self._extract_term(class_, curies)\n",
      "/Users/sanjakjs/opt/anaconda3/envs/rdclust/lib/python3.8/site-packages/pronto/parsers/rdfxml.py:117: SyntaxWarning: several names found for 'http://www.orpha.net/ORDO/Orphanet_377793', using 'Particular clinical situation in a disease or syndrome'\n",
      "  self._extract_term(class_, curies)\n"
     ]
    }
   ],
   "source": [
    "ordo = from_file('../data/raw/ordo_orphanet.owl')\n",
    "gard2orpha = {i:'http://www.orpha.net/ORDO/Orphanet_{0}'.format(j) for i,j in zip(gard_diseases['curie'],gard_diseases['OrphaCode'])}"
   ]
  },
  {
   "cell_type": "code",
   "execution_count": 11,
   "id": "b3bfe668",
   "metadata": {},
   "outputs": [],
   "source": [
    "with open(\"../data/processed/ordo_semantic_similarity_within_cluster.pkl\", 'rb') as f:\n",
    "    within_cluster_sim = pickle.load(f)"
   ]
  },
  {
   "cell_type": "code",
   "execution_count": 16,
   "id": "987aa0a4",
   "metadata": {},
   "outputs": [],
   "source": [
    "within_cluster_dict = {}\n",
    "for cluster_sim in within_cluster_sim:\n",
    "    clust, clust_sim = list(cluster_sim.items())[0]\n",
    "    within_cluster_dict[clust] = np.mean(list(clust_sim.values()))\n"
   ]
  },
  {
   "cell_type": "code",
   "execution_count": 17,
   "id": "6554acf4",
   "metadata": {},
   "outputs": [],
   "source": [
    "within_means = list(within_cluster_dict.values())"
   ]
  },
  {
   "cell_type": "code",
   "execution_count": 20,
   "id": "da0b7575",
   "metadata": {},
   "outputs": [],
   "source": [
    "mean_sim = []\n",
    "for i in range(100):\n",
    "    random_tuples = sample(tuple_list,100)\n",
    "    random_sim = Parallel(n_jobs=8)(delayed(semantic_sim)(ordo,entities,gard2orpha,\"intrinsic_ic_sanchez\") for entities in random_tuples)\n",
    "    random_sim_dict = {dis: sim for dis_sim in random_sim for dis, sim in dis_sim.items()}\n",
    "    mean_sim.append(np.mean(list(random_sim_dict.values())))"
   ]
  },
  {
   "cell_type": "code",
   "execution_count": 26,
   "id": "4b7785ef",
   "metadata": {},
   "outputs": [],
   "source": [
    "similarity_df = pd.concat([pd.DataFrame({'Disease set type':'Random sample', 'Mean pairwise similarity':mean_sim}),\n",
    "pd.DataFrame({'Disease set type':'Clustered', 'Mean pairwise similarity':within_means})])"
   ]
  },
  {
   "cell_type": "code",
   "execution_count": 27,
   "id": "67db0663",
   "metadata": {},
   "outputs": [
    {
     "data": {
      "text/plain": [
       "Ttest_indResult(statistic=-7.63797819518472, pvalue=3.6316642592858883e-12)"
      ]
     },
     "execution_count": 27,
     "metadata": {},
     "output_type": "execute_result"
    }
   ],
   "source": [
    "stats.ttest_ind(mean_sim, within_means, alternative=\"two-sided\")"
   ]
  },
  {
   "cell_type": "code",
   "execution_count": 28,
   "id": "d608f85d",
   "metadata": {},
   "outputs": [
    {
     "data": {
      "text/plain": [
       "0.00023540543648958856"
      ]
     },
     "execution_count": 28,
     "metadata": {},
     "output_type": "execute_result"
    }
   ],
   "source": [
    "1 - stats.t.cdf((np.mean(within_means) - np.mean(mean_sim))/np.std(mean_sim),99)"
   ]
  },
  {
   "cell_type": "code",
   "execution_count": 29,
   "id": "50203e88",
   "metadata": {},
   "outputs": [
    {
     "data": {
      "text/plain": [
       "0.00014887975850763624"
      ]
     },
     "execution_count": 29,
     "metadata": {},
     "output_type": "execute_result"
    }
   ],
   "source": [
    "1 - stats.norm.cdf((np.mean(within_means) - np.mean(mean_sim))/np.std(mean_sim))"
   ]
  },
  {
   "cell_type": "code",
   "execution_count": 31,
   "id": "a1df9e68",
   "metadata": {},
   "outputs": [
    {
     "data": {
      "image/png": "[encoded data removed]",
      "text/plain": [
       "<Figure size 432x432 with 1 Axes>"
      ]
     },
     "metadata": {},
     "output_type": "display_data"
    }
   ],
   "source": [
    "sns.set(font_scale = 1.5)\n",
    "sns.set_style(\"white\")\n",
    "plt.figure(figsize=(6,6))\n",
    "sns.boxplot(x='Disease set type', y='Mean pairwise similarity', data=similarity_df)\n",
    "plt.show()"
   ]
  },
  {
   "cell_type": "code",
   "execution_count": null,
   "id": "94dfd2c4",
   "metadata": {},
   "outputs": [],
   "source": []
  }
 ],
 "metadata": {
  "kernelspec": {
   "display_name": "Python 3 (ipykernel)",
   "language": "python",
   "name": "python3"
  },
  "language_info": {
   "codemirror_mode": {
    "name": "ipython",
    "version": 3
   },
   "file_extension": ".py",
   "mimetype": "text/x-python",
   "name": "python",
   "nbconvert_exporter": "python",
   "pygments_lexer": "ipython3",
   "version": "3.8.12"
  }
 },
 "nbformat": 4,
 "nbformat_minor": 5
}
